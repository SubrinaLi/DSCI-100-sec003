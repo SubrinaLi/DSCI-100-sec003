{
 "cells": [
  {
   "cell_type": "markdown",
   "id": "4cbde8a7-f3b2-4657-af18-23397d75c4b9",
   "metadata": {},
   "source": [
    "# The prediction accuracy of subscribing to a game-related newsletter using gender, age, and played hours."
   ]
  },
  {
   "cell_type": "markdown",
   "id": "4468ae6c-530a-49a2-82ca-d33ed378f960",
   "metadata": {},
   "source": [
    "## Introduction"
   ]
  },
  {
   "cell_type": "markdown",
   "id": "36643fc2-4278-457e-a167-d1e9b951177d",
   "metadata": {},
   "source": [
    "* This project will mainly focus on a dataset about how people play video games. It will use data from this dataset to calculate the prediction accuracy of different characteristics or behaviors. The goal is to identify which characteristics or behaviors are more predictive. In the future, these characteristics can be used to predict whether a player will subscribe to a game-related newsletter.\n",
    "\n",
    "  \n",
    "* According to the dataset provided by a research group in Computer Science at UBC, we will primarily analyze three characteristics and behaviors. The main research question of this project is: \"Among gender, age, and hours played, which factor has the highest prediction accuracy for subscribing to a game-related newsletter?\""
   ]
  },
  {
   "cell_type": "code",
   "execution_count": 1,
   "id": "c154821f-3a44-47f6-aad2-499e88bb31ec",
   "metadata": {},
   "outputs": [
    {
     "name": "stderr",
     "output_type": "stream",
     "text": [
      "── \u001b[1mAttaching core tidyverse packages\u001b[22m ──────────────────────── tidyverse 2.0.0 ──\n",
      "\u001b[32m✔\u001b[39m \u001b[34mdplyr    \u001b[39m 1.1.4     \u001b[32m✔\u001b[39m \u001b[34mreadr    \u001b[39m 2.1.5\n",
      "\u001b[32m✔\u001b[39m \u001b[34mforcats  \u001b[39m 1.0.0     \u001b[32m✔\u001b[39m \u001b[34mstringr  \u001b[39m 1.5.1\n",
      "\u001b[32m✔\u001b[39m \u001b[34mggplot2  \u001b[39m 3.5.1     \u001b[32m✔\u001b[39m \u001b[34mtibble   \u001b[39m 3.2.1\n",
      "\u001b[32m✔\u001b[39m \u001b[34mlubridate\u001b[39m 1.9.3     \u001b[32m✔\u001b[39m \u001b[34mtidyr    \u001b[39m 1.3.1\n",
      "\u001b[32m✔\u001b[39m \u001b[34mpurrr    \u001b[39m 1.0.2     \n",
      "── \u001b[1mConflicts\u001b[22m ────────────────────────────────────────── tidyverse_conflicts() ──\n",
      "\u001b[31m✖\u001b[39m \u001b[34mdplyr\u001b[39m::\u001b[32mfilter()\u001b[39m masks \u001b[34mstats\u001b[39m::filter()\n",
      "\u001b[31m✖\u001b[39m \u001b[34mdplyr\u001b[39m::\u001b[32mlag()\u001b[39m    masks \u001b[34mstats\u001b[39m::lag()\n",
      "\u001b[36mℹ\u001b[39m Use the conflicted package (\u001b[3m\u001b[34m<http://conflicted.r-lib.org/>\u001b[39m\u001b[23m) to force all conflicts to become errors\n",
      "── \u001b[1mAttaching packages\u001b[22m ────────────────────────────────────── tidymodels 1.1.1 ──\n",
      "\n",
      "\u001b[32m✔\u001b[39m \u001b[34mbroom       \u001b[39m 1.0.6     \u001b[32m✔\u001b[39m \u001b[34mrsample     \u001b[39m 1.2.1\n",
      "\u001b[32m✔\u001b[39m \u001b[34mdials       \u001b[39m 1.3.0     \u001b[32m✔\u001b[39m \u001b[34mtune        \u001b[39m 1.1.2\n",
      "\u001b[32m✔\u001b[39m \u001b[34minfer       \u001b[39m 1.0.7     \u001b[32m✔\u001b[39m \u001b[34mworkflows   \u001b[39m 1.1.4\n",
      "\u001b[32m✔\u001b[39m \u001b[34mmodeldata   \u001b[39m 1.4.0     \u001b[32m✔\u001b[39m \u001b[34mworkflowsets\u001b[39m 1.0.1\n",
      "\u001b[32m✔\u001b[39m \u001b[34mparsnip     \u001b[39m 1.2.1     \u001b[32m✔\u001b[39m \u001b[34myardstick   \u001b[39m 1.3.1\n",
      "\u001b[32m✔\u001b[39m \u001b[34mrecipes     \u001b[39m 1.1.0     \n",
      "\n",
      "── \u001b[1mConflicts\u001b[22m ───────────────────────────────────────── tidymodels_conflicts() ──\n",
      "\u001b[31m✖\u001b[39m \u001b[34mscales\u001b[39m::\u001b[32mdiscard()\u001b[39m masks \u001b[34mpurrr\u001b[39m::discard()\n",
      "\u001b[31m✖\u001b[39m \u001b[34mdplyr\u001b[39m::\u001b[32mfilter()\u001b[39m   masks \u001b[34mstats\u001b[39m::filter()\n",
      "\u001b[31m✖\u001b[39m \u001b[34mrecipes\u001b[39m::\u001b[32mfixed()\u001b[39m  masks \u001b[34mstringr\u001b[39m::fixed()\n",
      "\u001b[31m✖\u001b[39m \u001b[34mdplyr\u001b[39m::\u001b[32mlag()\u001b[39m      masks \u001b[34mstats\u001b[39m::lag()\n",
      "\u001b[31m✖\u001b[39m \u001b[34myardstick\u001b[39m::\u001b[32mspec()\u001b[39m masks \u001b[34mreadr\u001b[39m::spec()\n",
      "\u001b[31m✖\u001b[39m \u001b[34mrecipes\u001b[39m::\u001b[32mstep()\u001b[39m   masks \u001b[34mstats\u001b[39m::step()\n",
      "\u001b[34m•\u001b[39m Dig deeper into tidy modeling with R at \u001b[32mhttps://www.tmwr.org\u001b[39m\n",
      "\n",
      "\n",
      "Attaching package: ‘cowplot’\n",
      "\n",
      "\n",
      "The following object is masked from ‘package:lubridate’:\n",
      "\n",
      "    stamp\n",
      "\n",
      "\n"
     ]
    }
   ],
   "source": [
    "library(tidyverse)\n",
    "library(repr)\n",
    "library(tidymodels)\n",
    "options(repr.matrix.max.rows = 6)\n",
    "library(cowplot)"
   ]
  },
  {
   "cell_type": "markdown",
   "id": "e43ef911-b7dd-41e6-810b-fa13c5be47ef",
   "metadata": {},
   "source": [
    "### Data information\n",
    "  - The data is collected by a research group in Computer Science at UBC, led by Frank Wood, which is about how people played the game.\n",
    "  - This dataset includes seven variables: experience, subscribe, hashed email, played hours, name, gender, and age. It has 196 observations.\n",
    "  - Quantitative variable: played hours, age;  Qualitative variable: experience, subscribe, hashed email, name, gender.\n",
    "  - The meaning of the variables:\n",
    "    1. experience: The experience level of each player, is classified as \"Pro\", Veteran\", \"Amateur\", \"Beginner\", and \"Regular\" five level.\n",
    "    2. subscribe: Whether the player subscribes to the game-related newsletter or not. True means they subscribe, otherwise it gonna be false.\n",
    "    3. hashed email: The email address of these players.\n",
    "    4. played_hours: The time (in hours) that played totally played.\n",
    "    5. name: The name of these players.\n",
    "    6. gender: The gender of these players.\n",
    "    7. Age: The age of these players.\n",
    "  - Since this project only analyzes how hours played, gender, and age predict subscription, we need to filter out the variables experience, hashedEmail, and name to tidy the data. At the same time, we also need to convert the data types of subscribe and name into factors. Finally, we need to drop all missing values from the dataset."
   ]
  },
  {
   "cell_type": "code",
   "execution_count": 7,
   "id": "d260433a-f993-4f6e-b053-170b94c476a7",
   "metadata": {},
   "outputs": [
    {
     "name": "stderr",
     "output_type": "stream",
     "text": [
      "\u001b[1mRows: \u001b[22m\u001b[34m196\u001b[39m \u001b[1mColumns: \u001b[22m\u001b[34m7\u001b[39m\n",
      "\u001b[36m──\u001b[39m \u001b[1mColumn specification\u001b[22m \u001b[36m────────────────────────────────────────────────────────\u001b[39m\n",
      "\u001b[1mDelimiter:\u001b[22m \",\"\n",
      "\u001b[31mchr\u001b[39m (4): experience, hashedEmail, name, gender\n",
      "\u001b[32mdbl\u001b[39m (2): played_hours, Age\n",
      "\u001b[33mlgl\u001b[39m (1): subscribe\n",
      "\n",
      "\u001b[36mℹ\u001b[39m Use `spec()` to retrieve the full column specification for this data.\n",
      "\u001b[36mℹ\u001b[39m Specify the column types or set `show_col_types = FALSE` to quiet this message.\n"
     ]
    },
    {
     "data": {
      "text/html": [
       "<table class=\"dataframe\">\n",
       "<caption>A spec_tbl_df: 196 × 7</caption>\n",
       "<thead>\n",
       "\t<tr><th scope=col>experience</th><th scope=col>subscribe</th><th scope=col>hashedEmail</th><th scope=col>played_hours</th><th scope=col>name</th><th scope=col>gender</th><th scope=col>Age</th></tr>\n",
       "\t<tr><th scope=col>&lt;chr&gt;</th><th scope=col>&lt;lgl&gt;</th><th scope=col>&lt;chr&gt;</th><th scope=col>&lt;dbl&gt;</th><th scope=col>&lt;chr&gt;</th><th scope=col>&lt;chr&gt;</th><th scope=col>&lt;dbl&gt;</th></tr>\n",
       "</thead>\n",
       "<tbody>\n",
       "\t<tr><td>Pro    </td><td> TRUE</td><td>f6daba428a5e19a3d47574858c13550499be23603422e6a0ee9728f8b53e192d</td><td>30.3</td><td>Morgan   </td><td>Male</td><td> 9</td></tr>\n",
       "\t<tr><td>Veteran</td><td> TRUE</td><td>f3c813577c458ba0dfef80996f8f32c93b6e8af1fa939732842f2312358a88e9</td><td> 3.8</td><td>Christian</td><td>Male</td><td>17</td></tr>\n",
       "\t<tr><td>Veteran</td><td>FALSE</td><td>b674dd7ee0d24096d1c019615ce4d12b20fcbff12d79d3c5a9d2118eb7ccbb28</td><td> 0.0</td><td>Blake    </td><td>Male</td><td>17</td></tr>\n",
       "\t<tr><td>⋮</td><td>⋮</td><td>⋮</td><td>⋮</td><td>⋮</td><td>⋮</td><td>⋮</td></tr>\n",
       "\t<tr><td>Amateur</td><td>FALSE</td><td>d572f391d452b76ea2d7e5e53a3d38bfd7499c7399db299bd4fedb06a46ad5bb</td><td>0.0</td><td>Dylan </td><td>Prefer not to say</td><td>17</td></tr>\n",
       "\t<tr><td>Amateur</td><td>FALSE</td><td>f19e136ddde68f365afc860c725ccff54307dedd13968e896a9f890c40aea436</td><td>2.3</td><td>Harlow</td><td>Male             </td><td>17</td></tr>\n",
       "\t<tr><td>Pro    </td><td> TRUE</td><td>d9473710057f7d42f36570f0be83817a4eea614029ff90cf50d8889cdd729d11</td><td>0.2</td><td>Ahmed </td><td>Other            </td><td>NA</td></tr>\n",
       "</tbody>\n",
       "</table>\n"
      ],
      "text/latex": [
       "A spec\\_tbl\\_df: 196 × 7\n",
       "\\begin{tabular}{lllllll}\n",
       " experience & subscribe & hashedEmail & played\\_hours & name & gender & Age\\\\\n",
       " <chr> & <lgl> & <chr> & <dbl> & <chr> & <chr> & <dbl>\\\\\n",
       "\\hline\n",
       "\t Pro     &  TRUE & f6daba428a5e19a3d47574858c13550499be23603422e6a0ee9728f8b53e192d & 30.3 & Morgan    & Male &  9\\\\\n",
       "\t Veteran &  TRUE & f3c813577c458ba0dfef80996f8f32c93b6e8af1fa939732842f2312358a88e9 &  3.8 & Christian & Male & 17\\\\\n",
       "\t Veteran & FALSE & b674dd7ee0d24096d1c019615ce4d12b20fcbff12d79d3c5a9d2118eb7ccbb28 &  0.0 & Blake     & Male & 17\\\\\n",
       "\t ⋮ & ⋮ & ⋮ & ⋮ & ⋮ & ⋮ & ⋮\\\\\n",
       "\t Amateur & FALSE & d572f391d452b76ea2d7e5e53a3d38bfd7499c7399db299bd4fedb06a46ad5bb & 0.0 & Dylan  & Prefer not to say & 17\\\\\n",
       "\t Amateur & FALSE & f19e136ddde68f365afc860c725ccff54307dedd13968e896a9f890c40aea436 & 2.3 & Harlow & Male              & 17\\\\\n",
       "\t Pro     &  TRUE & d9473710057f7d42f36570f0be83817a4eea614029ff90cf50d8889cdd729d11 & 0.2 & Ahmed  & Other             & NA\\\\\n",
       "\\end{tabular}\n"
      ],
      "text/markdown": [
       "\n",
       "A spec_tbl_df: 196 × 7\n",
       "\n",
       "| experience &lt;chr&gt; | subscribe &lt;lgl&gt; | hashedEmail &lt;chr&gt; | played_hours &lt;dbl&gt; | name &lt;chr&gt; | gender &lt;chr&gt; | Age &lt;dbl&gt; |\n",
       "|---|---|---|---|---|---|---|\n",
       "| Pro     |  TRUE | f6daba428a5e19a3d47574858c13550499be23603422e6a0ee9728f8b53e192d | 30.3 | Morgan    | Male |  9 |\n",
       "| Veteran |  TRUE | f3c813577c458ba0dfef80996f8f32c93b6e8af1fa939732842f2312358a88e9 |  3.8 | Christian | Male | 17 |\n",
       "| Veteran | FALSE | b674dd7ee0d24096d1c019615ce4d12b20fcbff12d79d3c5a9d2118eb7ccbb28 |  0.0 | Blake     | Male | 17 |\n",
       "| ⋮ | ⋮ | ⋮ | ⋮ | ⋮ | ⋮ | ⋮ |\n",
       "| Amateur | FALSE | d572f391d452b76ea2d7e5e53a3d38bfd7499c7399db299bd4fedb06a46ad5bb | 0.0 | Dylan  | Prefer not to say | 17 |\n",
       "| Amateur | FALSE | f19e136ddde68f365afc860c725ccff54307dedd13968e896a9f890c40aea436 | 2.3 | Harlow | Male              | 17 |\n",
       "| Pro     |  TRUE | d9473710057f7d42f36570f0be83817a4eea614029ff90cf50d8889cdd729d11 | 0.2 | Ahmed  | Other             | NA |\n",
       "\n"
      ],
      "text/plain": [
       "    experience subscribe\n",
       "1   Pro         TRUE    \n",
       "2   Veteran     TRUE    \n",
       "3   Veteran    FALSE    \n",
       "⋮   ⋮          ⋮        \n",
       "194 Amateur    FALSE    \n",
       "195 Amateur    FALSE    \n",
       "196 Pro         TRUE    \n",
       "    hashedEmail                                                     \n",
       "1   f6daba428a5e19a3d47574858c13550499be23603422e6a0ee9728f8b53e192d\n",
       "2   f3c813577c458ba0dfef80996f8f32c93b6e8af1fa939732842f2312358a88e9\n",
       "3   b674dd7ee0d24096d1c019615ce4d12b20fcbff12d79d3c5a9d2118eb7ccbb28\n",
       "⋮   ⋮                                                               \n",
       "194 d572f391d452b76ea2d7e5e53a3d38bfd7499c7399db299bd4fedb06a46ad5bb\n",
       "195 f19e136ddde68f365afc860c725ccff54307dedd13968e896a9f890c40aea436\n",
       "196 d9473710057f7d42f36570f0be83817a4eea614029ff90cf50d8889cdd729d11\n",
       "    played_hours name      gender            Age\n",
       "1   30.3         Morgan    Male               9 \n",
       "2    3.8         Christian Male              17 \n",
       "3    0.0         Blake     Male              17 \n",
       "⋮   ⋮            ⋮         ⋮                 ⋮  \n",
       "194 0.0          Dylan     Prefer not to say 17 \n",
       "195 2.3          Harlow    Male              17 \n",
       "196 0.2          Ahmed     Other             NA "
      ]
     },
     "metadata": {},
     "output_type": "display_data"
    }
   ],
   "source": [
    "player <- read_csv(\"data/players.csv\")\n",
    "player"
   ]
  },
  {
   "cell_type": "code",
   "execution_count": 8,
   "id": "3508bd0e-6c30-4ddb-89f6-37bcceefeb66",
   "metadata": {},
   "outputs": [
    {
     "data": {
      "text/html": [
       "<table class=\"dataframe\">\n",
       "<caption>A tibble: 74 × 4</caption>\n",
       "<thead>\n",
       "\t<tr><th scope=col>subscribe</th><th scope=col>played_hours</th><th scope=col>gender</th><th scope=col>Age</th></tr>\n",
       "\t<tr><th scope=col>&lt;fct&gt;</th><th scope=col>&lt;dbl&gt;</th><th scope=col>&lt;fct&gt;</th><th scope=col>&lt;dbl&gt;</th></tr>\n",
       "</thead>\n",
       "<tbody>\n",
       "\t<tr><td>TRUE </td><td>30.3</td><td>Male  </td><td> 9</td></tr>\n",
       "\t<tr><td>FALSE</td><td> 0.0</td><td>Male  </td><td>17</td></tr>\n",
       "\t<tr><td>TRUE </td><td> 0.7</td><td>Female</td><td>21</td></tr>\n",
       "\t<tr><td>⋮</td><td>⋮</td><td>⋮</td><td>⋮</td></tr>\n",
       "\t<tr><td>TRUE </td><td>0</td><td>Male  </td><td>17</td></tr>\n",
       "\t<tr><td>TRUE </td><td>0</td><td>Female</td><td>17</td></tr>\n",
       "\t<tr><td>FALSE</td><td>0</td><td>Male  </td><td>17</td></tr>\n",
       "</tbody>\n",
       "</table>\n"
      ],
      "text/latex": [
       "A tibble: 74 × 4\n",
       "\\begin{tabular}{llll}\n",
       " subscribe & played\\_hours & gender & Age\\\\\n",
       " <fct> & <dbl> & <fct> & <dbl>\\\\\n",
       "\\hline\n",
       "\t TRUE  & 30.3 & Male   &  9\\\\\n",
       "\t FALSE &  0.0 & Male   & 17\\\\\n",
       "\t TRUE  &  0.7 & Female & 21\\\\\n",
       "\t ⋮ & ⋮ & ⋮ & ⋮\\\\\n",
       "\t TRUE  & 0 & Male   & 17\\\\\n",
       "\t TRUE  & 0 & Female & 17\\\\\n",
       "\t FALSE & 0 & Male   & 17\\\\\n",
       "\\end{tabular}\n"
      ],
      "text/markdown": [
       "\n",
       "A tibble: 74 × 4\n",
       "\n",
       "| subscribe &lt;fct&gt; | played_hours &lt;dbl&gt; | gender &lt;fct&gt; | Age &lt;dbl&gt; |\n",
       "|---|---|---|---|\n",
       "| TRUE  | 30.3 | Male   |  9 |\n",
       "| FALSE |  0.0 | Male   | 17 |\n",
       "| TRUE  |  0.7 | Female | 21 |\n",
       "| ⋮ | ⋮ | ⋮ | ⋮ |\n",
       "| TRUE  | 0 | Male   | 17 |\n",
       "| TRUE  | 0 | Female | 17 |\n",
       "| FALSE | 0 | Male   | 17 |\n",
       "\n"
      ],
      "text/plain": [
       "   subscribe played_hours gender Age\n",
       "1  TRUE      30.3         Male    9 \n",
       "2  FALSE      0.0         Male   17 \n",
       "3  TRUE       0.7         Female 21 \n",
       "⋮  ⋮         ⋮            ⋮      ⋮  \n",
       "72 TRUE      0            Male   17 \n",
       "73 TRUE      0            Female 17 \n",
       "74 FALSE     0            Male   17 "
      ]
     },
     "metadata": {},
     "output_type": "display_data"
    }
   ],
   "source": [
    "player <- player |>\n",
    "select(-hashedEmail, -name,-experience)|>\n",
    "drop_na(subscribe, played_hours,Age)|>\n",
    "mutate(subscribe = as_factor(subscribe), gender = as_factor(gender)) # true is 1, false is 0\n",
    "player"
   ]
  },
  {
   "cell_type": "code",
   "execution_count": 9,
   "id": "c5c0b23a-a29f-4024-989e-bfdb0696db8a",
   "metadata": {},
   "outputs": [],
   "source": [
    "player_split <- initial_split(player, prop = 0.75, strata = subscribe)\n",
    "player_training <- training(player_split)\n",
    "player_testing <- testing(player_split)\n",
    "player_spec <- nearest_neighbor(weight_func = \"rectangular\", neighbors = tune()) |> \n",
    "      set_engine(\"kknn\") |>\n",
    "      set_mode(\"classification\")\n",
    "gridvals <- tibble(neighbors = seq(from = 1, to = 10, by = 1))\n",
    "player_vfold <- vfold_cv(data = player_training, v = 5, strata = subscribe)"
   ]
  },
  {
   "cell_type": "code",
   "execution_count": 19,
   "id": "f6165e93-58c2-4536-8e9d-25e789cae08b",
   "metadata": {},
   "outputs": [
    {
     "data": {
      "text/html": [
       "<table class=\"dataframe\">\n",
       "<caption>A tibble: 2 × 7</caption>\n",
       "<thead>\n",
       "\t<tr><th scope=col>neighbors</th><th scope=col>.metric</th><th scope=col>.estimator</th><th scope=col>mean</th><th scope=col>n</th><th scope=col>std_err</th><th scope=col>.config</th></tr>\n",
       "\t<tr><th scope=col>&lt;dbl&gt;</th><th scope=col>&lt;chr&gt;</th><th scope=col>&lt;chr&gt;</th><th scope=col>&lt;dbl&gt;</th><th scope=col>&lt;int&gt;</th><th scope=col>&lt;dbl&gt;</th><th scope=col>&lt;chr&gt;</th></tr>\n",
       "</thead>\n",
       "<tbody>\n",
       "\t<tr><td> 9</td><td>accuracy</td><td>binary</td><td>0.6145455</td><td>5</td><td>0.1002621</td><td>Preprocessor1_Model09</td></tr>\n",
       "\t<tr><td>10</td><td>accuracy</td><td>binary</td><td>0.6145455</td><td>5</td><td>0.1002621</td><td>Preprocessor1_Model10</td></tr>\n",
       "</tbody>\n",
       "</table>\n"
      ],
      "text/latex": [
       "A tibble: 2 × 7\n",
       "\\begin{tabular}{lllllll}\n",
       " neighbors & .metric & .estimator & mean & n & std\\_err & .config\\\\\n",
       " <dbl> & <chr> & <chr> & <dbl> & <int> & <dbl> & <chr>\\\\\n",
       "\\hline\n",
       "\t  9 & accuracy & binary & 0.6145455 & 5 & 0.1002621 & Preprocessor1\\_Model09\\\\\n",
       "\t 10 & accuracy & binary & 0.6145455 & 5 & 0.1002621 & Preprocessor1\\_Model10\\\\\n",
       "\\end{tabular}\n"
      ],
      "text/markdown": [
       "\n",
       "A tibble: 2 × 7\n",
       "\n",
       "| neighbors &lt;dbl&gt; | .metric &lt;chr&gt; | .estimator &lt;chr&gt; | mean &lt;dbl&gt; | n &lt;int&gt; | std_err &lt;dbl&gt; | .config &lt;chr&gt; |\n",
       "|---|---|---|---|---|---|---|\n",
       "|  9 | accuracy | binary | 0.6145455 | 5 | 0.1002621 | Preprocessor1_Model09 |\n",
       "| 10 | accuracy | binary | 0.6145455 | 5 | 0.1002621 | Preprocessor1_Model10 |\n",
       "\n"
      ],
      "text/plain": [
       "  neighbors .metric  .estimator mean      n std_err   .config              \n",
       "1  9        accuracy binary     0.6145455 5 0.1002621 Preprocessor1_Model09\n",
       "2 10        accuracy binary     0.6145455 5 0.1002621 Preprocessor1_Model10"
      ]
     },
     "metadata": {},
     "output_type": "display_data"
    },
    {
     "data": {
      "text/html": [
       "<table class=\"dataframe\">\n",
       "<caption>A tibble: 20 × 7</caption>\n",
       "<thead>\n",
       "\t<tr><th scope=col>neighbors</th><th scope=col>.metric</th><th scope=col>.estimator</th><th scope=col>mean</th><th scope=col>n</th><th scope=col>std_err</th><th scope=col>.config</th></tr>\n",
       "\t<tr><th scope=col>&lt;dbl&gt;</th><th scope=col>&lt;chr&gt;</th><th scope=col>&lt;chr&gt;</th><th scope=col>&lt;dbl&gt;</th><th scope=col>&lt;int&gt;</th><th scope=col>&lt;dbl&gt;</th><th scope=col>&lt;chr&gt;</th></tr>\n",
       "</thead>\n",
       "<tbody>\n",
       "\t<tr><td>1</td><td>accuracy</td><td>binary</td><td>0.3978788</td><td>5</td><td>0.06092266</td><td>Preprocessor1_Model01</td></tr>\n",
       "\t<tr><td>1</td><td>roc_auc </td><td>binary</td><td>0.3819444</td><td>5</td><td>0.08789593</td><td>Preprocessor1_Model01</td></tr>\n",
       "\t<tr><td>2</td><td>accuracy</td><td>binary</td><td>0.3978788</td><td>5</td><td>0.06092266</td><td>Preprocessor1_Model02</td></tr>\n",
       "\t<tr><td>⋮</td><td>⋮</td><td>⋮</td><td>⋮</td><td>⋮</td><td>⋮</td><td>⋮</td></tr>\n",
       "\t<tr><td> 9</td><td>roc_auc </td><td>binary</td><td>0.4888889</td><td>5</td><td>0.1122134</td><td>Preprocessor1_Model09</td></tr>\n",
       "\t<tr><td>10</td><td>accuracy</td><td>binary</td><td>0.6145455</td><td>5</td><td>0.1002621</td><td>Preprocessor1_Model10</td></tr>\n",
       "\t<tr><td>10</td><td>roc_auc </td><td>binary</td><td>0.5189815</td><td>5</td><td>0.1250051</td><td>Preprocessor1_Model10</td></tr>\n",
       "</tbody>\n",
       "</table>\n"
      ],
      "text/latex": [
       "A tibble: 20 × 7\n",
       "\\begin{tabular}{lllllll}\n",
       " neighbors & .metric & .estimator & mean & n & std\\_err & .config\\\\\n",
       " <dbl> & <chr> & <chr> & <dbl> & <int> & <dbl> & <chr>\\\\\n",
       "\\hline\n",
       "\t 1 & accuracy & binary & 0.3978788 & 5 & 0.06092266 & Preprocessor1\\_Model01\\\\\n",
       "\t 1 & roc\\_auc  & binary & 0.3819444 & 5 & 0.08789593 & Preprocessor1\\_Model01\\\\\n",
       "\t 2 & accuracy & binary & 0.3978788 & 5 & 0.06092266 & Preprocessor1\\_Model02\\\\\n",
       "\t ⋮ & ⋮ & ⋮ & ⋮ & ⋮ & ⋮ & ⋮\\\\\n",
       "\t  9 & roc\\_auc  & binary & 0.4888889 & 5 & 0.1122134 & Preprocessor1\\_Model09\\\\\n",
       "\t 10 & accuracy & binary & 0.6145455 & 5 & 0.1002621 & Preprocessor1\\_Model10\\\\\n",
       "\t 10 & roc\\_auc  & binary & 0.5189815 & 5 & 0.1250051 & Preprocessor1\\_Model10\\\\\n",
       "\\end{tabular}\n"
      ],
      "text/markdown": [
       "\n",
       "A tibble: 20 × 7\n",
       "\n",
       "| neighbors &lt;dbl&gt; | .metric &lt;chr&gt; | .estimator &lt;chr&gt; | mean &lt;dbl&gt; | n &lt;int&gt; | std_err &lt;dbl&gt; | .config &lt;chr&gt; |\n",
       "|---|---|---|---|---|---|---|\n",
       "| 1 | accuracy | binary | 0.3978788 | 5 | 0.06092266 | Preprocessor1_Model01 |\n",
       "| 1 | roc_auc  | binary | 0.3819444 | 5 | 0.08789593 | Preprocessor1_Model01 |\n",
       "| 2 | accuracy | binary | 0.3978788 | 5 | 0.06092266 | Preprocessor1_Model02 |\n",
       "| ⋮ | ⋮ | ⋮ | ⋮ | ⋮ | ⋮ | ⋮ |\n",
       "|  9 | roc_auc  | binary | 0.4888889 | 5 | 0.1122134 | Preprocessor1_Model09 |\n",
       "| 10 | accuracy | binary | 0.6145455 | 5 | 0.1002621 | Preprocessor1_Model10 |\n",
       "| 10 | roc_auc  | binary | 0.5189815 | 5 | 0.1250051 | Preprocessor1_Model10 |\n",
       "\n"
      ],
      "text/plain": [
       "   neighbors .metric  .estimator mean      n std_err    .config              \n",
       "1  1         accuracy binary     0.3978788 5 0.06092266 Preprocessor1_Model01\n",
       "2  1         roc_auc  binary     0.3819444 5 0.08789593 Preprocessor1_Model01\n",
       "3  2         accuracy binary     0.3978788 5 0.06092266 Preprocessor1_Model02\n",
       "⋮  ⋮         ⋮        ⋮          ⋮         ⋮ ⋮          ⋮                    \n",
       "18  9        roc_auc  binary     0.4888889 5 0.1122134  Preprocessor1_Model09\n",
       "19 10        accuracy binary     0.6145455 5 0.1002621  Preprocessor1_Model10\n",
       "20 10        roc_auc  binary     0.5189815 5 0.1250051  Preprocessor1_Model10"
      ]
     },
     "metadata": {},
     "output_type": "display_data"
    }
   ],
   "source": [
    "player_recipe1 <- recipe( subscribe~ played_hours, data = player_training)|>\n",
    "step_center(all_predictors())|>\n",
    "step_scale(all_predictors())\n",
    "\n",
    "player_workflow1 <- workflow()|>\n",
    "add_recipe(player_recipe1)|>\n",
    "add_model(player_spec)\n",
    "\n",
    "player_results1 <- player_workflow1 |>\n",
    "  tune_grid(resamples = player_vfold, grid = gridvals) |>\n",
    "  collect_metrics()\n",
    "\n",
    "player_min1 <- player_results1 |>\n",
    "   filter(.metric == \"accuracy\") |>\n",
    "   slice_max(mean)# No Answer - remove if you provide an answer\n",
    "player_min1\n",
    "player_results1"
   ]
  },
  {
   "cell_type": "code",
   "execution_count": 20,
   "id": "e70dfe7c-5aff-43cc-9d0e-cd95f7321e50",
   "metadata": {},
   "outputs": [],
   "source": [
    "k_min <- player_min1 |>\n",
    "         slice(1)|>\n",
    "         pull(neighbors)\n",
    "\n",
    "player_best_spec1 <- nearest_neighbor(weight_func = \"rectangular\", neighbors = k_min) |>\n",
    "         set_engine(\"kknn\") |>\n",
    "         set_mode(\"classification\")\n",
    "\n",
    "player_best_fit1 <- workflow() |>\n",
    "         add_recipe(player_recipe1) |>\n",
    "         add_model(player_best_spec1) |>\n",
    "         fit(data = player_training)\n",
    "\n",
    "player_summary1 <- player_best_fit1 |>\n",
    "          predict(player_testing)|>\n",
    "          bind_cols(player_testing) |>\n",
    "          metrics(truth = subscribe, estimate = .pred_class)"
   ]
  },
  {
   "cell_type": "code",
   "execution_count": 21,
   "id": "49621927-7533-468f-899d-132c79e87256",
   "metadata": {},
   "outputs": [
    {
     "data": {
      "text/html": [
       "<table class=\"dataframe\">\n",
       "<caption>A tibble: 2 × 3</caption>\n",
       "<thead>\n",
       "\t<tr><th scope=col>.metric</th><th scope=col>.estimator</th><th scope=col>.estimate</th></tr>\n",
       "\t<tr><th scope=col>&lt;chr&gt;</th><th scope=col>&lt;chr&gt;</th><th scope=col>&lt;dbl&gt;</th></tr>\n",
       "</thead>\n",
       "<tbody>\n",
       "\t<tr><td>accuracy</td><td>binary</td><td>0.8421053</td></tr>\n",
       "\t<tr><td>kap     </td><td>binary</td><td>0.6274510</td></tr>\n",
       "</tbody>\n",
       "</table>\n"
      ],
      "text/latex": [
       "A tibble: 2 × 3\n",
       "\\begin{tabular}{lll}\n",
       " .metric & .estimator & .estimate\\\\\n",
       " <chr> & <chr> & <dbl>\\\\\n",
       "\\hline\n",
       "\t accuracy & binary & 0.8421053\\\\\n",
       "\t kap      & binary & 0.6274510\\\\\n",
       "\\end{tabular}\n"
      ],
      "text/markdown": [
       "\n",
       "A tibble: 2 × 3\n",
       "\n",
       "| .metric &lt;chr&gt; | .estimator &lt;chr&gt; | .estimate &lt;dbl&gt; |\n",
       "|---|---|---|\n",
       "| accuracy | binary | 0.8421053 |\n",
       "| kap      | binary | 0.6274510 |\n",
       "\n"
      ],
      "text/plain": [
       "  .metric  .estimator .estimate\n",
       "1 accuracy binary     0.8421053\n",
       "2 kap      binary     0.6274510"
      ]
     },
     "metadata": {},
     "output_type": "display_data"
    }
   ],
   "source": [
    "player_summary1"
   ]
  },
  {
   "cell_type": "code",
   "execution_count": 12,
   "id": "07cdb11b-6a64-4119-88fa-500654255609",
   "metadata": {},
   "outputs": [
    {
     "data": {
      "text/html": [
       "<table class=\"dataframe\">\n",
       "<caption>A tibble: 2 × 7</caption>\n",
       "<thead>\n",
       "\t<tr><th scope=col>neighbors</th><th scope=col>.metric</th><th scope=col>.estimator</th><th scope=col>mean</th><th scope=col>n</th><th scope=col>std_err</th><th scope=col>.config</th></tr>\n",
       "\t<tr><th scope=col>&lt;dbl&gt;</th><th scope=col>&lt;chr&gt;</th><th scope=col>&lt;chr&gt;</th><th scope=col>&lt;dbl&gt;</th><th scope=col>&lt;int&gt;</th><th scope=col>&lt;dbl&gt;</th><th scope=col>&lt;chr&gt;</th></tr>\n",
       "</thead>\n",
       "<tbody>\n",
       "\t<tr><td>1</td><td>accuracy</td><td>binary</td><td>0.329697</td><td>5</td><td>0.1174028</td><td>Preprocessor1_Model01</td></tr>\n",
       "\t<tr><td>2</td><td>accuracy</td><td>binary</td><td>0.329697</td><td>5</td><td>0.1174028</td><td>Preprocessor1_Model02</td></tr>\n",
       "</tbody>\n",
       "</table>\n"
      ],
      "text/latex": [
       "A tibble: 2 × 7\n",
       "\\begin{tabular}{lllllll}\n",
       " neighbors & .metric & .estimator & mean & n & std\\_err & .config\\\\\n",
       " <dbl> & <chr> & <chr> & <dbl> & <int> & <dbl> & <chr>\\\\\n",
       "\\hline\n",
       "\t 1 & accuracy & binary & 0.329697 & 5 & 0.1174028 & Preprocessor1\\_Model01\\\\\n",
       "\t 2 & accuracy & binary & 0.329697 & 5 & 0.1174028 & Preprocessor1\\_Model02\\\\\n",
       "\\end{tabular}\n"
      ],
      "text/markdown": [
       "\n",
       "A tibble: 2 × 7\n",
       "\n",
       "| neighbors &lt;dbl&gt; | .metric &lt;chr&gt; | .estimator &lt;chr&gt; | mean &lt;dbl&gt; | n &lt;int&gt; | std_err &lt;dbl&gt; | .config &lt;chr&gt; |\n",
       "|---|---|---|---|---|---|---|\n",
       "| 1 | accuracy | binary | 0.329697 | 5 | 0.1174028 | Preprocessor1_Model01 |\n",
       "| 2 | accuracy | binary | 0.329697 | 5 | 0.1174028 | Preprocessor1_Model02 |\n",
       "\n"
      ],
      "text/plain": [
       "  neighbors .metric  .estimator mean     n std_err   .config              \n",
       "1 1         accuracy binary     0.329697 5 0.1174028 Preprocessor1_Model01\n",
       "2 2         accuracy binary     0.329697 5 0.1174028 Preprocessor1_Model02"
      ]
     },
     "metadata": {},
     "output_type": "display_data"
    },
    {
     "data": {
      "text/html": [
       "<table class=\"dataframe\">\n",
       "<caption>A tibble: 20 × 7</caption>\n",
       "<thead>\n",
       "\t<tr><th scope=col>neighbors</th><th scope=col>.metric</th><th scope=col>.estimator</th><th scope=col>mean</th><th scope=col>n</th><th scope=col>std_err</th><th scope=col>.config</th></tr>\n",
       "\t<tr><th scope=col>&lt;dbl&gt;</th><th scope=col>&lt;chr&gt;</th><th scope=col>&lt;chr&gt;</th><th scope=col>&lt;dbl&gt;</th><th scope=col>&lt;int&gt;</th><th scope=col>&lt;dbl&gt;</th><th scope=col>&lt;chr&gt;</th></tr>\n",
       "</thead>\n",
       "<tbody>\n",
       "\t<tr><td>1</td><td>accuracy</td><td>binary</td><td>0.3296970</td><td>5</td><td>0.11740283</td><td>Preprocessor1_Model01</td></tr>\n",
       "\t<tr><td>1</td><td>roc_auc </td><td>binary</td><td>0.5166667</td><td>5</td><td>0.07837076</td><td>Preprocessor1_Model01</td></tr>\n",
       "\t<tr><td>2</td><td>accuracy</td><td>binary</td><td>0.3296970</td><td>5</td><td>0.11740283</td><td>Preprocessor1_Model02</td></tr>\n",
       "\t<tr><td>⋮</td><td>⋮</td><td>⋮</td><td>⋮</td><td>⋮</td><td>⋮</td><td>⋮</td></tr>\n",
       "\t<tr><td> 9</td><td>roc_auc </td><td>binary</td><td>0.4777778</td><td>5</td><td>0.08932186</td><td>Preprocessor1_Model09</td></tr>\n",
       "\t<tr><td>10</td><td>accuracy</td><td>binary</td><td>0.2296970</td><td>5</td><td>0.05261439</td><td>Preprocessor1_Model10</td></tr>\n",
       "\t<tr><td>10</td><td>roc_auc </td><td>binary</td><td>0.4777778</td><td>5</td><td>0.08932186</td><td>Preprocessor1_Model10</td></tr>\n",
       "</tbody>\n",
       "</table>\n"
      ],
      "text/latex": [
       "A tibble: 20 × 7\n",
       "\\begin{tabular}{lllllll}\n",
       " neighbors & .metric & .estimator & mean & n & std\\_err & .config\\\\\n",
       " <dbl> & <chr> & <chr> & <dbl> & <int> & <dbl> & <chr>\\\\\n",
       "\\hline\n",
       "\t 1 & accuracy & binary & 0.3296970 & 5 & 0.11740283 & Preprocessor1\\_Model01\\\\\n",
       "\t 1 & roc\\_auc  & binary & 0.5166667 & 5 & 0.07837076 & Preprocessor1\\_Model01\\\\\n",
       "\t 2 & accuracy & binary & 0.3296970 & 5 & 0.11740283 & Preprocessor1\\_Model02\\\\\n",
       "\t ⋮ & ⋮ & ⋮ & ⋮ & ⋮ & ⋮ & ⋮\\\\\n",
       "\t  9 & roc\\_auc  & binary & 0.4777778 & 5 & 0.08932186 & Preprocessor1\\_Model09\\\\\n",
       "\t 10 & accuracy & binary & 0.2296970 & 5 & 0.05261439 & Preprocessor1\\_Model10\\\\\n",
       "\t 10 & roc\\_auc  & binary & 0.4777778 & 5 & 0.08932186 & Preprocessor1\\_Model10\\\\\n",
       "\\end{tabular}\n"
      ],
      "text/markdown": [
       "\n",
       "A tibble: 20 × 7\n",
       "\n",
       "| neighbors &lt;dbl&gt; | .metric &lt;chr&gt; | .estimator &lt;chr&gt; | mean &lt;dbl&gt; | n &lt;int&gt; | std_err &lt;dbl&gt; | .config &lt;chr&gt; |\n",
       "|---|---|---|---|---|---|---|\n",
       "| 1 | accuracy | binary | 0.3296970 | 5 | 0.11740283 | Preprocessor1_Model01 |\n",
       "| 1 | roc_auc  | binary | 0.5166667 | 5 | 0.07837076 | Preprocessor1_Model01 |\n",
       "| 2 | accuracy | binary | 0.3296970 | 5 | 0.11740283 | Preprocessor1_Model02 |\n",
       "| ⋮ | ⋮ | ⋮ | ⋮ | ⋮ | ⋮ | ⋮ |\n",
       "|  9 | roc_auc  | binary | 0.4777778 | 5 | 0.08932186 | Preprocessor1_Model09 |\n",
       "| 10 | accuracy | binary | 0.2296970 | 5 | 0.05261439 | Preprocessor1_Model10 |\n",
       "| 10 | roc_auc  | binary | 0.4777778 | 5 | 0.08932186 | Preprocessor1_Model10 |\n",
       "\n"
      ],
      "text/plain": [
       "   neighbors .metric  .estimator mean      n std_err    .config              \n",
       "1  1         accuracy binary     0.3296970 5 0.11740283 Preprocessor1_Model01\n",
       "2  1         roc_auc  binary     0.5166667 5 0.07837076 Preprocessor1_Model01\n",
       "3  2         accuracy binary     0.3296970 5 0.11740283 Preprocessor1_Model02\n",
       "⋮  ⋮         ⋮        ⋮          ⋮         ⋮ ⋮          ⋮                    \n",
       "18  9        roc_auc  binary     0.4777778 5 0.08932186 Preprocessor1_Model09\n",
       "19 10        accuracy binary     0.2296970 5 0.05261439 Preprocessor1_Model10\n",
       "20 10        roc_auc  binary     0.4777778 5 0.08932186 Preprocessor1_Model10"
      ]
     },
     "metadata": {},
     "output_type": "display_data"
    }
   ],
   "source": [
    "player_recipe1 <- recipe( subscribe~ gender, data = player_training)\n",
    "\n",
    "\n",
    "player_workflow1 <- workflow()|>\n",
    "add_recipe(player_recipe1)|>\n",
    "add_model(player_spec)\n",
    "\n",
    "player_results1 <- player_workflow1 |>\n",
    "  tune_grid(resamples = player_vfold, grid = gridvals) |>\n",
    "  collect_metrics()\n",
    "\n",
    "player_min1 <- player_results1 |>\n",
    "   filter(.metric == \"accuracy\") |>\n",
    "   slice_max(mean)# No Answer - remove if you provide an answer\n",
    "player_min1\n",
    "player_results1"
   ]
  },
  {
   "cell_type": "code",
   "execution_count": null,
   "id": "6a3d4942-fc11-4a96-9629-5436d32ab9ed",
   "metadata": {},
   "outputs": [],
   "source": []
  }
 ],
 "metadata": {
  "kernelspec": {
   "display_name": "R",
   "language": "R",
   "name": "ir"
  },
  "language_info": {
   "codemirror_mode": "r",
   "file_extension": ".r",
   "mimetype": "text/x-r-source",
   "name": "R",
   "pygments_lexer": "r",
   "version": "4.3.3"
  }
 },
 "nbformat": 4,
 "nbformat_minor": 5
}
