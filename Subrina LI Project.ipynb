{
 "cells": [
  {
   "cell_type": "markdown",
   "id": "fd9e36aa-30d9-46c7-9f0d-ff6552a0ef02",
   "metadata": {},
   "source": [
    "# The prediction accuracy of subscribing to a game-related newsletter using gender, age, and played hours."
   ]
  },
  {
   "cell_type": "markdown",
   "id": "3e3b9cdd-ea50-4748-b6aa-1fa679c3d9a4",
   "metadata": {},
   "source": [
    "## Introduction"
   ]
  },
  {
   "cell_type": "markdown",
   "id": "b04ae1de-e9cd-4f10-8fa8-4c6c527618db",
   "metadata": {},
   "source": [
    "* This project will mainly focus on a dataset about how people play video games. It will use data from this dataset to calculate the prediction accuracy of different characteristics or behaviors. The goal is to identify which characteristics or behaviors are more predictive. In the future, these characteristics can be used to predict whether a player will subscribe to a game-related newsletter.\n",
    "\n",
    "  \n",
    "* According to the dataset provided by a research group in Computer Science at UBC, we will primarily analyze three characteristics and behaviors. The main research question of this project is: \"Among gender, age, and hours played, which factor has the highest prediction accuracy for subscribing to a game-related newsletter?\""
   ]
  },
  {
   "cell_type": "code",
   "execution_count": null,
   "id": "0a3e104d-e4d8-4b07-85e5-1ca9fe50ad65",
   "metadata": {},
   "outputs": [],
   "source": []
  }
 ],
 "metadata": {
  "kernelspec": {
   "display_name": "R",
   "language": "R",
   "name": "ir"
  },
  "language_info": {
   "codemirror_mode": "r",
   "file_extension": ".r",
   "mimetype": "text/x-r-source",
   "name": "R",
   "pygments_lexer": "r",
   "version": "4.3.3"
  }
 },
 "nbformat": 4,
 "nbformat_minor": 5
}
